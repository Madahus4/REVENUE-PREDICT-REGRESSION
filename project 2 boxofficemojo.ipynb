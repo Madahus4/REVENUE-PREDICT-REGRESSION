{
 "cells": [
  {
   "cell_type": "code",
   "execution_count": 96,
   "id": "08ac09d8",
   "metadata": {},
   "outputs": [],
   "source": [
    "import requests\n",
    "from bs4 import BeautifulSoup\n",
    "import pandas as pd\n",
    "import re\n",
    "import random"
   ]
  },
  {
   "cell_type": "code",
   "execution_count": 97,
   "id": "57348b28",
   "metadata": {},
   "outputs": [],
   "source": [
    "url = \"https://www.boxofficemojo.com/release/rl2270790401/?ref_=bo_rs_table_1\"\n",
    "response = requests.get(url)\n",
    "page = response.text\n",
    "soup = BeautifulSoup(page)"
   ]
  },
  {
   "cell_type": "code",
   "execution_count": 98,
   "id": "8cfa83ac",
   "metadata": {},
   "outputs": [],
   "source": [
    "def get_movie_value(soup, field_name):\n",
    "\n",
    "    obj = soup.find(text=re.compile(field_name))\n",
    "    \n",
    "    if not obj: \n",
    "        return None\n",
    "    \n",
    "    # this works for most of the values\n",
    "    next_element = obj.findNext()\n",
    "    \n",
    "    if next_element:\n",
    "        return next_element.text \n",
    "    else:\n",
    "        return None"
   ]
  },
  {
   "cell_type": "code",
   "execution_count": 99,
   "id": "8df646e6",
   "metadata": {},
   "outputs": [
    {
     "name": "stdout",
     "output_type": "stream",
     "text": [
      "Monsters, Inc. 2020 Re-release - Box Office Mojo\n"
     ]
    }
   ],
   "source": [
    "#Get title from web page that we requested\n",
    "title = soup.title\n",
    "print(title.text)"
   ]
  },
  {
   "cell_type": "code",
   "execution_count": 100,
   "id": "a29b97e0",
   "metadata": {
    "scrolled": true
   },
   "outputs": [
    {
     "data": {
      "text/plain": [
       "[<tr><th class=\"a-text-left mojo-field-type-date_interval mojo-sort-column mojo-sortable-column a-nowrap\"><a class=\"a-link-normal a-nowrap\" href=\"?sort=date&amp;ref_=bo_rl__resort#table\" title=\"Date\"><span class=\"a-color-state\">Date</span><span class=\"a-letter-space\"></span><span class=\"icon aok-relative\"><i class=\"a-icon a-icon-collapse\" role=\"presentation\"></i></span></a></th><th class=\"a-text-left mojo-field-type-date_interval mojo-sortable-column a-nowrap\"><span title=\"Day Of Week\">DOW</span>\n",
       " </th><th class=\"a-text-right mojo-field-type-rank mojo-sortable-column a-nowrap\"><a class=\"a-link-normal a-nowrap\" href=\"?sort=rank&amp;sortDir=asc&amp;ref_=bo_rl__resort#table\" title=\"Rank\">Rank<span class=\"a-letter-space\"></span><span class=\"icon aok-relative\"><i class=\"a-icon a-icon-expand table-sort-desc-placeholder\" role=\"presentation\"></i><i class=\"a-icon a-icon-collapse table-sort-asc-placeholder\" role=\"presentation\"></i></span></a></th><th class=\"a-text-right mojo-field-type-money mojo-sortable-column mojo-estimatable a-nowrap\"><span title=\"Daily Gross\">Daily</span>\n",
       " </th><th class=\"a-text-right mojo-field-type-percent_delta mojo-sortable-column mojo-estimatable a-nowrap\"><span title=\"Gross Change/Day\">%± YD</span>\n",
       " </th><th class=\"a-text-right mojo-field-type-percent_delta mojo-sortable-column mojo-estimatable a-nowrap\"><span title=\"Gross Change/Week\">%± LW</span>\n",
       " </th><th class=\"a-text-right mojo-field-type-positive_integer mojo-sortable-column mojo-estimatable a-nowrap\"><a class=\"a-link-normal a-nowrap\" href=\"?sort=numTheaters&amp;ref_=bo_rl__resort#table\" title=\"Number of Theaters\">Theaters<span class=\"a-letter-space\"></span><span class=\"icon aok-relative\"><i class=\"a-icon a-icon-expand table-sort-desc-placeholder\" role=\"presentation\"></i><i class=\"a-icon a-icon-collapse table-sort-asc-placeholder\" role=\"presentation\"></i></span></a></th><th class=\"a-text-right mojo-field-type-money mojo-sortable-column mojo-estimatable a-nowrap\"><a class=\"a-link-normal a-nowrap\" href=\"?sort=perTheaterAverageGross&amp;ref_=bo_rl__resort#table\" title=\"Per Theater Average Gross\">Avg<span class=\"a-letter-space\"></span><span class=\"icon aok-relative\"><i class=\"a-icon a-icon-expand table-sort-desc-placeholder\" role=\"presentation\"></i><i class=\"a-icon a-icon-collapse table-sort-asc-placeholder\" role=\"presentation\"></i></span></a></th><th class=\"a-text-right mojo-field-type-money mojo-sortable-column mojo-estimatable a-nowrap\"><a class=\"a-link-normal a-nowrap\" href=\"?sort=grossToDate&amp;ref_=bo_rl__resort#table\" title=\"Gross To Date\">To Date<span class=\"a-letter-space\"></span><span class=\"icon aok-relative\"><i class=\"a-icon a-icon-expand table-sort-desc-placeholder\" role=\"presentation\"></i><i class=\"a-icon a-icon-collapse table-sort-asc-placeholder\" role=\"presentation\"></i></span></a></th><th class=\"a-text-right mojo-field-type-positive_integer mojo-sortable-column a-nowrap\"><span title=\"Day\">Day</span>\n",
       " </th><th class=\"a-text-right mojo-field-type-boolean hidden mojo-sortable-column hidden a-nowrap\"><span title=\"Estimated\">Estimated</span>\n",
       " </th></tr>,\n",
       " <tr class=\"mojo-annotation-isEstimated\"><td class=\"a-text-left mojo-header-column mojo-truncate mojo-field-type-date_interval mojo-sort-column\"><a class=\"a-link-normal\" href=\"/date/2020-10-23/?ref_=bo_rl_table_1\">Oct 23, 2020</a><div class=\"a-section a-spacing-none\"><span class=\"a-size-small a-color-secondary\">COVID-19 Pandemic</span></div></td><td class=\"a-text-left mojo-field-type-date_interval\"><a class=\"a-link-normal\" href=\"/date/2020-10-23/?ref_=bo_rl_table_1\">Friday</a></td><td class=\"a-text-right mojo-field-type-rank\">8</td><td class=\"a-text-right mojo-field-type-money mojo-estimatable\">$164,000</td><td class=\"a-text-right mojo-field-type-percent_delta mojo-estimatable\">-</td><td class=\"a-text-right mojo-field-type-percent_delta mojo-estimatable\">-</td><td class=\"a-text-right mojo-field-type-positive_integer mojo-estimatable\">1,875</td><td class=\"a-text-right mojo-field-type-money mojo-estimatable\">$87</td><td class=\"a-text-right mojo-field-type-money mojo-estimatable\">$164,000</td><td class=\"a-text-right mojo-field-type-positive_integer\">1</td><td class=\"a-text-right mojo-field-type-boolean hidden\">true</td></tr>,\n",
       " <tr class=\"mojo-annotation-isEstimated\"><td class=\"a-text-left mojo-header-column mojo-truncate mojo-field-type-date_interval mojo-sort-column\"><a class=\"a-link-normal\" href=\"/date/2020-10-24/?ref_=bo_rl_table_2\">Oct 24, 2020</a><div class=\"a-section a-spacing-none\"><span class=\"a-size-small a-color-secondary\">COVID-19 Pandemic</span></div></td><td class=\"a-text-left mojo-field-type-date_interval\"><a class=\"a-link-normal\" href=\"/date/2020-10-24/?ref_=bo_rl_table_2\">Saturday</a></td><td class=\"a-text-right mojo-field-type-rank\">7</td><td class=\"a-text-right mojo-field-type-money mojo-estimatable\">$222,000</td><td class=\"a-text-right mojo-number-delta mojo-field-type-percent_delta mojo-estimatable\">+105.6%</td><td class=\"a-text-right mojo-field-type-percent_delta mojo-estimatable\">-</td><td class=\"a-text-right mojo-field-type-positive_integer mojo-estimatable\">1,875</td><td class=\"a-text-right mojo-field-type-money mojo-estimatable\">$118</td><td class=\"a-text-right mojo-field-type-money mojo-estimatable\">$386,000</td><td class=\"a-text-right mojo-field-type-positive_integer\">4</td><td class=\"a-text-right mojo-field-type-boolean hidden\">true</td></tr>,\n",
       " <tr class=\"mojo-annotation-isEstimated\"><td class=\"a-text-left mojo-header-column mojo-truncate mojo-field-type-date_interval mojo-sort-column\"><a class=\"a-link-normal\" href=\"/date/2020-10-25/?ref_=bo_rl_table_3\">Oct 25, 2020</a><div class=\"a-section a-spacing-none\"><span class=\"a-size-small a-color-secondary\">COVID-19 Pandemic</span></div></td><td class=\"a-text-left mojo-field-type-date_interval\"><a class=\"a-link-normal\" href=\"/date/2020-10-25/?ref_=bo_rl_table_3\">Sunday</a></td><td class=\"a-text-right mojo-field-type-rank\">8</td><td class=\"a-text-right mojo-field-type-money mojo-estimatable\">$108,000</td><td class=\"a-text-right mojo-number-negative mojo-number-delta mojo-field-type-percent_delta mojo-estimatable\">-51.4%</td><td class=\"a-text-right mojo-field-type-percent_delta mojo-estimatable\">-</td><td class=\"a-text-right mojo-field-type-positive_integer mojo-estimatable\">1,875</td><td class=\"a-text-right mojo-field-type-money mojo-estimatable\">$57</td><td class=\"a-text-right mojo-field-type-money mojo-estimatable\">$494,000</td><td class=\"a-text-right mojo-field-type-positive_integer\">5</td><td class=\"a-text-right mojo-field-type-boolean hidden\">true</td></tr>,\n",
       " <tr class=\"mojo-annotation-isEstimated\"><td class=\"a-text-left mojo-header-column mojo-truncate mojo-field-type-date_interval mojo-sort-column\"><a class=\"a-link-normal\" href=\"/date/2020-10-30/?ref_=bo_rl_table_4\">Oct 30, 2020</a><div class=\"a-section a-spacing-none\"><span class=\"a-size-small a-color-secondary\">COVID-19 Pandemic</span></div></td><td class=\"a-text-left mojo-field-type-date_interval\"><a class=\"a-link-normal\" href=\"/date/2020-10-30/?ref_=bo_rl_table_4\">Friday</a></td><td class=\"a-text-right mojo-field-type-rank\">8</td><td class=\"a-text-right mojo-field-type-money mojo-estimatable\">$82,000</td><td class=\"a-text-right mojo-number-negative mojo-number-delta mojo-field-type-percent_delta mojo-estimatable\">-17.2%</td><td class=\"a-text-right mojo-number-negative mojo-number-delta mojo-field-type-percent_delta mojo-estimatable\">-24.1%</td><td class=\"a-text-right mojo-field-type-positive_integer mojo-estimatable\">1,237</td><td class=\"a-text-right mojo-field-type-money mojo-estimatable\">$66</td><td class=\"a-text-right mojo-field-type-money mojo-estimatable\">$576,000</td><td class=\"a-text-right mojo-field-type-positive_integer\">10</td><td class=\"a-text-right mojo-field-type-boolean hidden\">true</td></tr>,\n",
       " <tr class=\"mojo-annotation-isEstimated\"><td class=\"a-text-left mojo-header-column mojo-truncate mojo-field-type-date_interval mojo-sort-column\"><a class=\"a-link-normal\" href=\"/date/2020-10-31/?ref_=bo_rl_table_5\">Oct 31, 2020</a><div class=\"a-section a-spacing-none\"><span class=\"a-size-small a-color-secondary\">COVID-19 Pandemic<br/>Halloween</span></div></td><td class=\"a-text-left mojo-field-type-date_interval\"><a class=\"a-link-normal\" href=\"/date/2020-10-31/?ref_=bo_rl_table_5\">Saturday</a></td><td class=\"a-text-right mojo-field-type-rank\">8</td><td class=\"a-text-right mojo-field-type-money mojo-estimatable\">$99,000</td><td class=\"a-text-right mojo-number-delta mojo-field-type-percent_delta mojo-estimatable\">+20.7%</td><td class=\"a-text-right mojo-number-negative mojo-number-delta mojo-field-type-percent_delta mojo-estimatable\">-55.4%</td><td class=\"a-text-right mojo-field-type-positive_integer mojo-estimatable\">1,237</td><td class=\"a-text-right mojo-field-type-money mojo-estimatable\">$80</td><td class=\"a-text-right mojo-field-type-money mojo-estimatable\">$675,000</td><td class=\"a-text-right mojo-field-type-positive_integer\">13</td><td class=\"a-text-right mojo-field-type-boolean hidden\">true</td></tr>,\n",
       " <tr class=\"mojo-annotation-isEstimated\"><td class=\"a-text-left mojo-header-column mojo-truncate mojo-field-type-date_interval mojo-sort-column\"><a class=\"a-link-normal\" href=\"/date/2020-11-01/?ref_=bo_rl_table_6\">Nov 1, 2020</a><div class=\"a-section a-spacing-none\"><span class=\"a-size-small a-color-secondary\">COVID-19 Pandemic</span></div></td><td class=\"a-text-left mojo-field-type-date_interval\"><a class=\"a-link-normal\" href=\"/date/2020-11-01/?ref_=bo_rl_table_6\">Sunday</a></td><td class=\"a-text-right mojo-field-type-rank\">9</td><td class=\"a-text-right mojo-field-type-money mojo-estimatable\">$51,000</td><td class=\"a-text-right mojo-number-negative mojo-number-delta mojo-field-type-percent_delta mojo-estimatable\">-48.5%</td><td class=\"a-text-right mojo-number-negative mojo-number-delta mojo-field-type-percent_delta mojo-estimatable\">-52.8%</td><td class=\"a-text-right mojo-field-type-positive_integer mojo-estimatable\">1,237</td><td class=\"a-text-right mojo-field-type-money mojo-estimatable\">$41</td><td class=\"a-text-right mojo-field-type-money mojo-estimatable\">$726,000</td><td class=\"a-text-right mojo-field-type-positive_integer\">14</td><td class=\"a-text-right mojo-field-type-boolean hidden\">true</td></tr>]"
      ]
     },
     "execution_count": 100,
     "metadata": {},
     "output_type": "execute_result"
    }
   ],
   "source": [
    "\n",
    "#Getting rows of table data - \"tr\" means table row\n",
    "rows = soup.find_all(\"tr\")\n",
    "rows"
   ]
  },
  {
   "cell_type": "code",
   "execution_count": 101,
   "id": "f1a022e1",
   "metadata": {},
   "outputs": [
    {
     "data": {
      "text/plain": [
       "[<h1 class=\"a-size-extra-large\">Monsters, Inc.</h1>]"
      ]
     },
     "execution_count": 101,
     "metadata": {},
     "output_type": "execute_result"
    }
   ],
   "source": [
    "#The only thing with h1 is the movie title!\n",
    "soup.find_all('h1')"
   ]
  },
  {
   "cell_type": "code",
   "execution_count": 102,
   "id": "ba303fb1",
   "metadata": {},
   "outputs": [],
   "source": [
    "url = \"https://www.boxofficemojo.com/year/2020/?ref_=bo_yl_table_2\"\n",
    "response = requests.get(url)\n",
    "page = response.text\n",
    "\n",
    "soup = BeautifulSoup(page, 'lxml')"
   ]
  },
  {
   "cell_type": "code",
   "execution_count": 103,
   "id": "e8651117",
   "metadata": {},
   "outputs": [],
   "source": [
    "rows = soup.find('table').find_all('tr')"
   ]
  },
  {
   "cell_type": "code",
   "execution_count": 104,
   "id": "29b73ab5",
   "metadata": {},
   "outputs": [],
   "source": [
    "def get_links(url, year):\n",
    "    response = requests.get(url)\n",
    "    page = response.text\n",
    "    soup = BeautifulSoup(page, 'lxml')\n",
    "    rows = soup.find('table').find_all('tr')\n",
    "    curr_dict = {}\n",
    "    \n",
    "    for row in rows[1:]:\n",
    "\n",
    "        try:\n",
    "            theaters = int(row.find_all('td')[6].text.replace(',',''))\n",
    "        except:\n",
    "            theaters = 0\n",
    "\n",
    "        if theaters < 500:\n",
    "            continue\n",
    "        else:\n",
    "            pass\n",
    "        title = row.find_all('td')[1].text\n",
    "        #Update Release Date for EVERY YEAR\n",
    "        release_date = row.find_all('td')[8].text+', '+year\n",
    "        link_stub = row.find_all('td')[1].find('a')['href']\n",
    "\n",
    "        curr_dict[title] = [link_stub, release_date, theaters]\n",
    "    \n",
    "    df = pd.DataFrame(curr_dict).T\n",
    "    df.columns = ['link_stub', 'release', 'theaters']\n",
    "    return df"
   ]
  },
  {
   "cell_type": "code",
   "execution_count": 105,
   "id": "aa290815",
   "metadata": {},
   "outputs": [],
   "source": [
    "def get_movie_dict(link):\n",
    "    \"\"\" \n",
    "    Takes Links from existing dataframe and parses data from each page\n",
    "    input: link url\n",
    "    returns: (dict)\n",
    "    \"\"\"\n",
    "    base_url = \"https://www.boxofficemojo.com\"\n",
    "    url = base_url+link\n",
    "    \n",
    "    response = requests.get(url)\n",
    "    print('Status_code: {}'.format(response.status_code))\n",
    "    page = response.text\n",
    "    soup = BeautifulSoup(page)\n",
    "\n",
    "    \n",
    "    #get movie title\n",
    "    title = soup.find('h1').text\n",
    "\n",
    "    #get description\n",
    "    desc = soup.find('p', {'class':'a-size-medium'}).text\n",
    "\n",
    "    #get gross income values\n",
    "    keys = ['gross_dom', 'gross_inter', 'gross_world']\n",
    "    moneys =[]\n",
    "    for span in soup.find(class_='mojo-performance-summary-table').find_all('span', class_='money'):\n",
    "        moneys.append(span.text)\n",
    "    gross = dict(zip(keys,moneys))\n",
    "\n",
    "    #get movie distributor\n",
    "    distr = get_movie_value(soup, 'Distri')\n",
    "\n",
    "    #get opening income\n",
    "    opening = get_movie_value(soup, 'Open')\n",
    "    \n",
    "    #get budget\n",
    "    budget = get_movie_value(soup, 'Budget')\n",
    "\n",
    "    #get ratings\n",
    "    mpaa = get_movie_value(soup, 'MPA')\n",
    "\n",
    "    #get runtime\n",
    "    runtime = get_movie_value(soup, 'Run')\n",
    "\n",
    "    #get genres\n",
    "    genres = list(get_movie_value(soup, 'Genres').split())\n",
    "    s = ''\n",
    "    for each in genres:\n",
    "        s+= each\n",
    "        s+= ', '\n",
    "    genres = s[:-2]\n",
    "\n",
    "    #compile all the above to dict\n",
    "    headers = ['title', 'desc', 'distr', 'opening', 'budget', 'mpaa', 'runtime', 'genres']\n",
    "    moviedict = dict(zip(headers, [title, desc, distr, opening, budget, mpaa, runtime, genres]))\n",
    "    moviedict.update(gross)\n",
    "    \n",
    "    return moviedict"
   ]
  },
  {
   "cell_type": "code",
   "execution_count": 106,
   "id": "c4771507",
   "metadata": {},
   "outputs": [],
   "source": [
    "import time"
   ]
  },
  {
   "cell_type": "code",
   "execution_count": 175,
   "id": "fa512acb",
   "metadata": {},
   "outputs": [],
   "source": [
    "movie_stubs = pd.DataFrame()\n",
    "def get_stubs():\n",
    "    for year in range(2000,2020):\n",
    "        url = 'https://www.boxofficemojo.com/year/{}/?grossesOption=calendarGrosses'.format(year)\n",
    "        movie_stubs = pd.concat([get_links(url, str(year)), movie_stubs])\n",
    "        time.sleep(2)\n",
    "#get_stubs()"
   ]
  },
  {
   "cell_type": "code",
   "execution_count": 176,
   "id": "b93e1c51",
   "metadata": {},
   "outputs": [],
   "source": [
    "movie_gross = pd.DataFrame()"
   ]
  },
  {
   "cell_type": "code",
   "execution_count": 177,
   "id": "a581f14c",
   "metadata": {},
   "outputs": [
    {
     "data": {
      "text/html": [
       "<div>\n",
       "<style scoped>\n",
       "    .dataframe tbody tr th:only-of-type {\n",
       "        vertical-align: middle;\n",
       "    }\n",
       "\n",
       "    .dataframe tbody tr th {\n",
       "        vertical-align: top;\n",
       "    }\n",
       "\n",
       "    .dataframe thead th {\n",
       "        text-align: right;\n",
       "    }\n",
       "</style>\n",
       "<table border=\"1\" class=\"dataframe\">\n",
       "  <thead>\n",
       "    <tr style=\"text-align: right;\">\n",
       "      <th></th>\n",
       "    </tr>\n",
       "  </thead>\n",
       "  <tbody>\n",
       "  </tbody>\n",
       "</table>\n",
       "</div>"
      ],
      "text/plain": [
       "Empty DataFrame\n",
       "Columns: []\n",
       "Index: []"
      ]
     },
     "execution_count": 177,
     "metadata": {},
     "output_type": "execute_result"
    }
   ],
   "source": [
    "movie_gross"
   ]
  },
  {
   "cell_type": "code",
   "execution_count": null,
   "id": "5b2855ab",
   "metadata": {},
   "outputs": [],
   "source": []
  }
 ],
 "metadata": {
  "kernelspec": {
   "display_name": "Python 3",
   "language": "python",
   "name": "python3"
  },
  "language_info": {
   "codemirror_mode": {
    "name": "ipython",
    "version": 3
   },
   "file_extension": ".py",
   "mimetype": "text/x-python",
   "name": "python",
   "nbconvert_exporter": "python",
   "pygments_lexer": "ipython3",
   "version": "3.8.8"
  }
 },
 "nbformat": 4,
 "nbformat_minor": 5
}
